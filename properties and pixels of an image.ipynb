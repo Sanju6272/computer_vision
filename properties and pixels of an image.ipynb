{
 "cells": [
  {
   "cell_type": "code",
   "execution_count": 2,
   "metadata": {},
   "outputs": [],
   "source": [
    "import cv2 as cv"
   ]
  },
  {
   "cell_type": "code",
   "execution_count": 3,
   "metadata": {},
   "outputs": [],
   "source": [
    "import numpy as np"
   ]
  },
  {
   "cell_type": "code",
   "execution_count": 4,
   "metadata": {},
   "outputs": [
    {
     "name": "stdout",
     "output_type": "stream",
     "text": [
      "The shape of an image is: (800, 1200, 3)\n",
      "The size of an image is: 2880000\n",
      "The data type of an image is: uint8\n",
      "The value of pixel at 200x200 is: [62 59 54]\n",
      "The value of blue color in pixel at 200x200 is: 62\n",
      "The value of green color in pixel at 200x200 is: 59\n",
      "The value of red color in pixel at 200x200 is: 54\n"
     ]
    }
   ],
   "source": [
    "img = cv.imread(\"range_rover_sport.jpg\")\n",
    "cv.imshow(\"old img\",img)\n",
    "print(\"The shape of an image is:\",img.shape)\n",
    "print(\"The size of an image is:\",img.size)\n",
    "print(\"The data type of an image is:\",img.dtype)\n",
    "print(\"The value of pixel at 200x200 is:\",img[200,200])\n",
    "print(\"The value of blue color in pixel at 200x200 is:\",img[200,200,0])\n",
    "print(\"The value of green color in pixel at 200x200 is:\",img[200,200,1])\n",
    "print(\"The value of red color in pixel at 200x200 is:\",img[200,200,2])\n",
    "img[300,400] = [255,255,255] #changing color of pixel at 300x400\n",
    "cv.imshow(\"new img\",img)\n",
    "cv.waitKey(0)\n",
    "cv.destroyAllWindows()"
   ]
  },
  {
   "cell_type": "code",
   "execution_count": null,
   "metadata": {},
   "outputs": [],
   "source": []
  }
 ],
 "metadata": {
  "kernelspec": {
   "display_name": "Python 3",
   "language": "python",
   "name": "python3"
  },
  "language_info": {
   "codemirror_mode": {
    "name": "ipython",
    "version": 3
   },
   "file_extension": ".py",
   "mimetype": "text/x-python",
   "name": "python",
   "nbconvert_exporter": "python",
   "pygments_lexer": "ipython3",
   "version": "3.8.5"
  }
 },
 "nbformat": 4,
 "nbformat_minor": 4
}
