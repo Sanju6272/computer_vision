{
 "cells": [
  {
   "cell_type": "code",
   "execution_count": 1,
   "metadata": {},
   "outputs": [],
   "source": [
    "import cv2 as cv"
   ]
  },
  {
   "cell_type": "code",
   "execution_count": 2,
   "metadata": {},
   "outputs": [],
   "source": [
    "import numpy as np"
   ]
  },
  {
   "cell_type": "code",
   "execution_count": 3,
   "metadata": {},
   "outputs": [],
   "source": [
    "img = cv.imread(\"range_rover_sport.jpg\")\n",
    "cv.imshow(\"bgr\",img)\n",
    "b,g,r = cv.split(img) \n",
    "cv.imshow(\"blue\",b)\n",
    "cv.imshow(\"green\",g)\n",
    "cv.imshow(\"red\",r)\n",
    "img_merge=cv.merge([b,r,g,])\n",
    "cv.imshow(\"merge_brg\",img_merge)"
   ]
  },
  {
   "cell_type": "code",
   "execution_count": null,
   "metadata": {},
   "outputs": [],
   "source": [
    "img = cv.imread(\"range_rover_sport.jpg\")\n",
    "cv.imshow(\"bgr\",img)\n",
    "\n",
    "img_hsv=cv.cvtColor(img,cv.COLOR_BGR2HSV)\n",
    "cv.imshow(\"hsv image\",img_hsv)\n",
    "\n",
    "h,s,v = cv.split(img_hsv)\n",
    "cv.imshow(\"hue\",h)\n",
    "cv.imshow(\"saturation\",s)\n",
    "cv.imshow(\"value\",v)\n",
    "\n",
    "img_hsv_merge=cv.merge([h,s,v])\n",
    "cv.imshow(\"hsv merge\",img_hsv_merge)\n",
    "\n",
    "cv.waitKey(0)\n",
    "cv.destroyAllWindows()"
   ]
  },
  {
   "cell_type": "code",
   "execution_count": null,
   "metadata": {},
   "outputs": [],
   "source": []
  }
 ],
 "metadata": {
  "kernelspec": {
   "display_name": "Python 3",
   "language": "python",
   "name": "python3"
  },
  "language_info": {
   "codemirror_mode": {
    "name": "ipython",
    "version": 3
   },
   "file_extension": ".py",
   "mimetype": "text/x-python",
   "name": "python",
   "nbconvert_exporter": "python",
   "pygments_lexer": "ipython3",
   "version": "3.8.5"
  }
 },
 "nbformat": 4,
 "nbformat_minor": 4
}
