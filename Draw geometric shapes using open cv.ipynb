{
 "cells": [
  {
   "cell_type": "code",
   "execution_count": 1,
   "metadata": {},
   "outputs": [],
   "source": [
    "import cv2 as cv"
   ]
  },
  {
   "cell_type": "code",
   "execution_count": 2,
   "metadata": {},
   "outputs": [],
   "source": [
    "import numpy as np"
   ]
  },
  {
   "cell_type": "code",
   "execution_count": 3,
   "metadata": {},
   "outputs": [],
   "source": [
    "#create an black image\n",
    "img = np.zeros((200,200,3),np.uint8)\n",
    "\n",
    "#draw a diagonal line in img with thinkness of 4 pixel by giving 2 end points\n",
    "cv.line(img,(0,0),(200,200),(0,0,255),4)\n",
    "\n",
    "#make img[100x100] pixel as white pixel \n",
    "img[100,100] = [255,255,255]\n",
    "\n",
    "#draw a rectangle in img with thinkness of 5 pixel by giving 2 opposite corners\n",
    "cv.rectangle(img,(0,0),(100,100),(200,200,200),5)\n",
    "\n",
    "#draw a circle in img with thinkness of 3 pixel by giving centre and radius\n",
    "cv.circle(img,(100,100),25,(50,150,200),3) #if thinkness is positive then we get circle with outline as thickness pixel\n",
    "cv.circle(img,(180,150),20,(0,0,58),-1)  #if thinkness is negative then we get circle with filled in color\n",
    "\n",
    "#draw a polygon with vertices\n",
    "#pts = np.array([[0,25],[50,40],[61,60],[12,30],[20,80]],np.int32)\n",
    "#cv.polylines(img,pts,True,(255,255,0),5)\n",
    "\n",
    "cv.imshow(\"img\",img)\n",
    "cv.waitKey(0)\n",
    "cv.destroyAllWindows()"
   ]
  },
  {
   "cell_type": "code",
   "execution_count": null,
   "metadata": {},
   "outputs": [],
   "source": []
  }
 ],
 "metadata": {
  "kernelspec": {
   "display_name": "Python 3",
   "language": "python",
   "name": "python3"
  },
  "language_info": {
   "codemirror_mode": {
    "name": "ipython",
    "version": 3
   },
   "file_extension": ".py",
   "mimetype": "text/x-python",
   "name": "python",
   "nbconvert_exporter": "python",
   "pygments_lexer": "ipython3",
   "version": "3.8.5"
  }
 },
 "nbformat": 4,
 "nbformat_minor": 4
}
