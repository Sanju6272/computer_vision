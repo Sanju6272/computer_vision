{
 "cells": [
  {
   "cell_type": "markdown",
   "metadata": {},
   "source": [
    "# Assignment done by Sangireddy Sanjeeva Kumar Reddy"
   ]
  },
  {
   "cell_type": "code",
   "execution_count": 1,
   "metadata": {},
   "outputs": [],
   "source": [
    "#import computer vision module \n",
    "import cv2 as cv"
   ]
  },
  {
   "cell_type": "code",
   "execution_count": 2,
   "metadata": {},
   "outputs": [],
   "source": [
    "#import numpy module to perform array operations\n",
    "import numpy as np"
   ]
  },
  {
   "cell_type": "markdown",
   "metadata": {},
   "source": [
    "# Rectangle"
   ]
  },
  {
   "cell_type": "code",
   "execution_count": 3,
   "metadata": {},
   "outputs": [],
   "source": [
    "#For plain white back ground\n",
    "img = np.full((800,800,3),255,np.uint8)\n",
    "\n",
    "#Draw solid rectangle\n",
    "cv.rectangle(img,(100,100),(700,400),(5,50,150),3)\n",
    "\n",
    "#for showing image on screen\n",
    "cv.imshow(\"image\",img)\n",
    "\n",
    "#to exit from window by pressing any key on key board\n",
    "cv.waitKey(0)\n",
    "\n",
    "#to destroy all windows which was created earlier\n",
    "cv.destroyAllWindows()"
   ]
  },
  {
   "cell_type": "markdown",
   "metadata": {},
   "source": [
    "# Star"
   ]
  },
  {
   "cell_type": "code",
   "execution_count": 4,
   "metadata": {},
   "outputs": [],
   "source": [
    "#For plain white back ground\n",
    "img = np.full((800,800,3),255,np.uint8)\n",
    "\n",
    "#Draw star\n",
    "pts=np.array([[400,100],[100,700],[600,400],[100,400],[600,700],[400,100]],np.int32)\n",
    "cv.polylines(img,[pts],True,(100,10,100),5)\n",
    "\n",
    "#for showing image on screen\n",
    "cv.imshow(\"image\",img)\n",
    "\n",
    "#to exit from window by pressing any key on key board\n",
    "cv.waitKey(0)\n",
    "\n",
    "#to destroy all windows which was created earlier\n",
    "cv.destroyAllWindows()"
   ]
  },
  {
   "cell_type": "markdown",
   "metadata": {},
   "source": [
    "# Double-Sided Arrow"
   ]
  },
  {
   "cell_type": "code",
   "execution_count": 5,
   "metadata": {},
   "outputs": [],
   "source": [
    "#For plain white back ground\n",
    "img = np.full((800,800,3),255,np.uint8)\n",
    "\n",
    "#Draw double sided arrow\n",
    "cv.arrowedLine(img,(600,350),(100,350),(50,50,50),8)\n",
    "cv.arrowedLine(img,(100,350),(600,350),(50,50,50),8)\n",
    "\n",
    "#for showing image on screen\n",
    "cv.imshow(\"image\",img)\n",
    "\n",
    "#to exit from window by pressing any key on key board\n",
    "cv.waitKey(0)\n",
    "\n",
    "#to destroy all windows which was created earlier\n",
    "cv.destroyAllWindows()"
   ]
  },
  {
   "cell_type": "code",
   "execution_count": null,
   "metadata": {},
   "outputs": [],
   "source": []
  }
 ],
 "metadata": {
  "kernelspec": {
   "display_name": "Python 3",
   "language": "python",
   "name": "python3"
  },
  "language_info": {
   "codemirror_mode": {
    "name": "ipython",
    "version": 3
   },
   "file_extension": ".py",
   "mimetype": "text/x-python",
   "name": "python",
   "nbconvert_exporter": "python",
   "pygments_lexer": "ipython3",
   "version": "3.8.5"
  }
 },
 "nbformat": 4,
 "nbformat_minor": 4
}
