{
 "cells": [
  {
   "cell_type": "code",
   "execution_count": 1,
   "metadata": {},
   "outputs": [],
   "source": [
    "import cv2 as cv"
   ]
  },
  {
   "cell_type": "code",
   "execution_count": 2,
   "metadata": {},
   "outputs": [],
   "source": [
    "import numpy as np"
   ]
  },
  {
   "cell_type": "code",
   "execution_count": null,
   "metadata": {},
   "outputs": [
    {
     "name": "stdout",
     "output_type": "stream",
     "text": [
      "The shape of BGR img is : (800, 1200, 3)\n",
      "The size of BGR img is : 2880000\n"
     ]
    }
   ],
   "source": [
    "img = cv.imread(\"range_rover_sport.jpg\")\n",
    "cv.imshow(\"BGR_img\",img)\n",
    "print(\"The shape of BGR img is :\",img.shape)\n",
    "print(\"The size of BGR img is :\",img.size)\n",
    "\n",
    "#change BGR image to GRAY image\n",
    "img_hsv = cv.cvtColor(img,cv.COLOR_BGR2HSV)\n",
    "cv.imshow(\"HSV_img\",img_hsv)\n",
    "\n",
    "cv.waitKey(0)\n",
    "cv.destroyAllWindows()"
   ]
  },
  {
   "cell_type": "code",
   "execution_count": null,
   "metadata": {},
   "outputs": [],
   "source": []
  }
 ],
 "metadata": {
  "kernelspec": {
   "display_name": "Python 3",
   "language": "python",
   "name": "python3"
  },
  "language_info": {
   "codemirror_mode": {
    "name": "ipython",
    "version": 3
   },
   "file_extension": ".py",
   "mimetype": "text/x-python",
   "name": "python",
   "nbconvert_exporter": "python",
   "pygments_lexer": "ipython3",
   "version": "3.8.5"
  }
 },
 "nbformat": 4,
 "nbformat_minor": 4
}
